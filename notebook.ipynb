{
 "cells": [
  {
   "cell_type": "markdown",
   "metadata": {},
   "source": [
    "# *ΥΠΟΛΟΓΙΣΤΙΚΗ ΝΟΗΜΟΣΥΝΗ* Εργαστηριακή Άσκηση Μέρος Α΄\n",
    "> **Βασίλης Χαράλαμπος Αυγερινός ΑΜ: 1054298**   \n",
    "> **Github link:** [https://github.com/wzrd13/CI_project_2021](https://github.com/wzrd13/CI_project_2021)"
   ]
  },
  {
   "cell_type": "code",
   "execution_count": 3,
   "metadata": {},
   "outputs": [],
   "source": [
    "import os\n",
    "import torch\n",
    "import numpy as np\n",
    "from torch import nn\n",
    "import torch.nn.functional as F\n",
    "from torchvision.datasets import MNIST\n",
    "from torch.utils.data import DataLoader, ConcatDataset\n",
    "from torchvision import transforms\n",
    "from torchvision.utils import make_grid\n",
    "from sklearn.model_selection import KFold\n",
    "import matplotlib.pyplot as plt\n",
    "from tqdm import tqdm\n",
    "from functools import partial"
   ]
  },
  {
   "cell_type": "markdown",
   "metadata": {},
   "source": [
    "### Α1. Προεπεξεργασία και Προετοιμασία δεδομένων\n",
    "\n",
    "**α)** Τα δεδομένα το **Mnist dataset** είναι είδη κεντραρισμένα οπότε όπως φαίνεται και παρακάτω για προεπεξεργασία  χρησιμοποιούνται οι μέθοδοι της κανονικοποίησης και της τυποποίησης."
   ]
  },
  {
   "cell_type": "code",
   "execution_count": 4,
   "metadata": {},
   "outputs": [],
   "source": [
    "'''Get Data'''\n",
    "\n",
    "## Tranforms ##\n",
    "# toTensor divides by 256 -> dataset values [0,1]\n",
    "# normalize with std and mean\n",
    "dt_trasforms = transforms.Compose([transforms.ToTensor(), transforms.Normalize((0.1307,), (0.3081,))])\n",
    "\n",
    "# Download Data apply trasnformations\n",
    "trainset = MNIST(os.getcwd(), train=True, download=True, transform=dt_trasforms)\n",
    "testset = MNIST(os.getcwd(), train=False, download=True, transform=dt_trasforms)"
   ]
  },
  {
   "cell_type": "code",
   "execution_count": 5,
   "metadata": {},
   "outputs": [
    {
     "data": {
      "image/png": "[encoded data removed]",
      "text/plain": [
       "<Figure size 432x288 with 1 Axes>"
      ]
     },
     "metadata": {
      "needs_background": "light"
     },
     "output_type": "display_data"
    },
    {
     "data": {
      "text/plain": [
       "'std:'"
      ]
     },
     "metadata": {},
     "output_type": "display_data"
    },
    {
     "data": {
      "text/plain": [
       "0.9496731162071228"
      ]
     },
     "metadata": {},
     "output_type": "display_data"
    },
    {
     "data": {
      "text/plain": [
       "'mean:'"
      ]
     },
     "metadata": {},
     "output_type": "display_data"
    },
    {
     "data": {
      "text/plain": [
       "-0.03782825171947479"
      ]
     },
     "metadata": {},
     "output_type": "display_data"
    }
   ],
   "source": [
    "'''Test Data'''\n",
    "\n",
    "def imshow(img):\n",
    "    npimg = img.numpy()\n",
    "    plt.imshow(np.transpose(npimg, (1, 2, 0)))\n",
    "    plt.show()\n",
    "\n",
    "# Create dataloader for testing data\n",
    "test_data_loader = torch.utils.data.DataLoader(trainset, batch_size=4)\n",
    "dataiter = iter(test_data_loader)\n",
    "data = dataiter.next()\n",
    "img, label = data\n",
    "\n",
    "# Show images\n",
    "imshow(make_grid(trainset.data[0:3].unsqueeze(1)))\n",
    "\n",
    "# Show part of img tensor\n",
    "#display(img[0][0][7])\n",
    "\n",
    "# Show mean and std after normalization\n",
    "display(\"std:\", torch.std(img).item())\n",
    "display(\"mean:\", torch.mean(img).item())"
   ]
  },
  {
   "cell_type": "markdown",
   "metadata": {},
   "source": [
    "**β)** Τα δεδομένα για training και για testing συνδυάζονται σε ένα κοινό dataset με σκοπό τον διαχωρισμό τους έπειτα από την συνάρτηση **KfoldTrain** που υλοποιεί την εκπαίδευση και το validation του δικτύου που παίρνει ως είσοδο."
   ]
  },
  {
   "cell_type": "code",
   "execution_count": 6,
   "metadata": {},
   "outputs": [],
   "source": [
    "# Concat datasets for k-fold testing\n",
    "dataset = ConcatDataset([trainset, testset])"
   ]
  },
  {
   "cell_type": "markdown",
   "metadata": {},
   "source": [
    "Η συνάρτηση **weight_reset** χρησιμοποιείτε για να αρχικοποιει τις παραμέτρους του δικτιού  μετά από κάθε fold."
   ]
  },
  {
   "cell_type": "code",
   "execution_count": 7,
   "metadata": {},
   "outputs": [],
   "source": [
    "def weight_reset(m):\n",
    "    if isinstance(m, nn.Linear):\n",
    "        m.reset_parameters()"
   ]
  },
  {
   "cell_type": "markdown",
   "metadata": {},
   "source": [
    "Η **KfoldTrain** παίρνει ως ορίσματα ένα δίκτυο, μια συνάρτηση **Train**, το dataset, το batch size και τέλος τον αριθμό τον folds."
   ]
  },
  {
   "cell_type": "code",
   "execution_count": 8,
   "metadata": {},
   "outputs": [],
   "source": [
    "def kFoldTrain(net, trainer, dt_set, batch_s, k_folds=5, early_stop=False):\n",
    "    \n",
    "    # Init sk-learn Kfold class\n",
    "    kfold = KFold(n_splits=k_folds, shuffle=True)\n",
    "    \n",
    "    results = {}\n",
    "    loss_values = [[] for _ in range(k_folds)]\n",
    "\n",
    "    torch.manual_seed(42)\n",
    "\n",
    "    for fold, (train_ids, test_ids) in enumerate(kfold.split(dt_set)):\n",
    "    \n",
    "        # Print\n",
    "        print(f'FOLD {fold}')\n",
    "        print('--------------------------------')\n",
    "        \n",
    "        net.apply(weight_reset)\n",
    "\n",
    "        # Sample elements from dataset according to given ids.\n",
    "        train_smplr = torch.utils.data.SubsetRandomSampler(train_ids)\n",
    "        test_smplr = torch.utils.data.SubsetRandomSampler(test_ids)\n",
    "        \n",
    "        # If early stoping is True -> \n",
    "        # split the k-1 fold train set to two sets train(80%) and val(20%)\n",
    "        if early_stop:\n",
    "            train_ids, validate_ids = np.split(train_ids, [int(len(train_ids)*0.8)])\n",
    "            \n",
    "            # Overide sampler for train\n",
    "            train_smplr = torch.utils.data.SubsetRandomSampler(train_ids)\n",
    "            val_smplr = torch.utils.data.SubsetRandomSampler(validate_ids)\n",
    "            \n",
    "            # Define data loader for val\n",
    "            valloader = torch.utils.data.DataLoader(\n",
    "                        dt_set, \n",
    "                        batch_size=batch_s, sampler=val_smplr)\n",
    "        \n",
    "    \n",
    "        \n",
    "        # Define data loaders for training and testing data in this fold\n",
    "        trainloader = torch.utils.data.DataLoader(\n",
    "                        dt_set, \n",
    "                        batch_size=batch_s, sampler=train_smplr)\n",
    "\n",
    "        testloader = torch.utils.data.DataLoader(\n",
    "                        dt_set,\n",
    "                        batch_size=batch_s, sampler=test_smplr)\n",
    "       \n",
    "        # Call train function with model and dataloader and valloader if early_stop\n",
    "        if early_stop:\n",
    "            loss = trainer(model=net, train_dl=trainloader, val_dl=valloader)\n",
    "        else:\n",
    "            loss = trainer(model=net, train_dl=trainloader)\n",
    "        \n",
    "        # Append loss values\n",
    "        loss_values[fold] = loss\n",
    "            \n",
    "        # Test each fold and return accuracy results\n",
    "        results[fold] = Test(model=net, test_dl=testloader)\n",
    "        \n",
    "        # Print accuracy\n",
    "        print('Accuracy for fold %d: %d %%' % (fold, results[fold]))\n",
    "        print('--------------------------------')\n",
    "\n",
    "    return {\"accuracy\" : results, \"loss\" : loss_values}"
   ]
  },
  {
   "cell_type": "markdown",
   "metadata": {},
   "source": [
    "Η **Train** είναι μια συνάρτηση που περνιέται ως όρισμα στην **ΚFoldTrain** και αναλαμβάνει την εκπαίδευση του δικτύου με τα δεδομένα που της δίνονται. Πριν δοθεί ως όρισμα μπορούμε να θέσουμε κάποιες από της παραμέτρους με την χρήση της **functools.partial**."
   ]
  },
  {
   "cell_type": "code",
   "execution_count": 32,
   "metadata": {},
   "outputs": [],
   "source": [
    "def Train(epochs, loss_func, opt, model, train_dl, target_one_hot=False):     \n",
    "    \n",
    "    # Accumulate loss values for ploting \n",
    "    loss_values = []\n",
    "    \n",
    "    # Run the training loop for defined number of epochs\n",
    "    for epoch in range(0, epochs):\n",
    "\n",
    "        # Print epoch\n",
    "        print(f'Starting epoch {epoch+1}')\n",
    "\n",
    "        # Set current loss value\n",
    "        current_loss = 0.0\n",
    "\n",
    "        # Iterate over the DataLoader for training data\n",
    "        for i, (inputs, targets) in enumerate(train_dl, 0):\n",
    "\n",
    "            # Zero the gradients\n",
    "            opt.zero_grad()\n",
    "\n",
    "            # Perform forward pass\n",
    "            outputs = model(inputs.float())\n",
    "\n",
    "            # Turn target batch to one-hot for MSELoss\n",
    "            if target_one_hot:\n",
    "                targets = F.one_hot(targets, num_classes=10).float()\n",
    "            \n",
    "            # Compute loss\n",
    "            loss = loss_func(outputs.float(), targets)\n",
    "\n",
    "            # Perform backward pass\n",
    "            loss.backward()\n",
    "\n",
    "            # Perform optimization\n",
    "            opt.step()\n",
    "\n",
    "            # Print statistics\n",
    "            current_loss += loss.item()\n",
    "            \n",
    "            if i % 100 == 99:\n",
    "                #print(f'Loss after {i + 1} mini-batches: {current_loss / 500}')\n",
    "                loss_values.append(current_loss / 500)\n",
    "                current_loss = 0.0\n",
    "        \n",
    "    return loss_values"
   ]
  },
  {
   "cell_type": "markdown",
   "metadata": {},
   "source": [
    "Η **Test** αναλαμβάνει το testing του μοντέλου με τα δεδομένα που δίνονται ως όρισμα."
   ]
  },
  {
   "cell_type": "code",
   "execution_count": 10,
   "metadata": {},
   "outputs": [],
   "source": [
    "def Test(model, test_dl):\n",
    "    \n",
    "    correct, total = 0, 0\n",
    "    with torch.no_grad():\n",
    "        # Iterate over the test data and generate predictions\n",
    "        for i, (inputs, targets) in enumerate(test_dl, 0):\n",
    "\n",
    "            # Generate outputs\n",
    "            outputs = model(inputs.view(-1, 28*28))\n",
    "\n",
    "            # Set total and correct\n",
    "            _, predicted = torch.max(outputs.data, 1)\n",
    "            total += targets.size(0)\n",
    "            correct += (predicted == targets).sum().item()\n",
    "\n",
    "        return 100.0 * (correct / total)"
   ]
  },
  {
   "cell_type": "markdown",
   "metadata": {},
   "source": [
    "### Α2. Επιλογή αρχιτεκτονικής"
   ]
  },
  {
   "cell_type": "markdown",
   "metadata": {},
   "source": [
    "**α)** Το παρόν πρόβλημα είναι πρόβλημα κατηγοριοποίησης. Αν χρησιμοποιούμε **CE** λαμβάνουμε υπόψη την μορφή του προβλήματος. Συγκριμένα στο διάνυσμα εξόδου εφαρμόζεται η συνάρτηση **softmax** που έχει ως αποτέλεσμα μόνο λίγες θέσεις του διανύσματος να περνούν μεγάλες τιμές. Και επόμενος missclasifications τιμωρούνται περισσότερο. Συγκριτικά η χρήση **MSE** για loss function υποθέτει ότι η έξοδος παίρνει τιμές σε ένα συνεχές πεδίο, με αποτέλεσμα missclasifications να τιμωρούνται λιγότερο. "
   ]
  },
  {
   "cell_type": "markdown",
   "metadata": {},
   "source": [
    "**β)** Το διάνυσμα εισόδου πρέπει να έχει μέγεθος 28 * 28 = **784** όσα είναι και τα pixel μιας εικόνας του dataset"
   ]
  },
  {
   "cell_type": "markdown",
   "metadata": {},
   "source": [
    "**γ)** Το διάνυσμα εξόδου πρέπει να έχει μέγεθος 10 όσοι είναι δηλαδή και οι αριθμοί του dataset"
   ]
  },
  {
   "cell_type": "markdown",
   "metadata": {},
   "source": [
    "**δ)** Η συνάρτηση ενεργοποίησης για τους κρυφούς κόμβους ειναι η ReLu (Rectified Linear Unit). Το πλεονέκτημα της ReLu είναι ο μη κορεσμός του gradient."
   ]
  },
  {
   "cell_type": "markdown",
   "metadata": {},
   "source": [
    "**ε)** Για το επίπεδο εξόδου στην περίπτωση εκπαίδευσης με **CE** είναι απαραίτητη η χρήση **softmax** αφού σε μια εικόνα δεν είναι δυνατό να περιέχετε παραπάνω από ένα νούμερο. Για εκπαίδευση  **MSE** που χρησιμοποιείτε κύριος για regression προβλήματα δεν είναι απαραίτητη η χρήση συνάρτησης ενεργοποίησης και επωφελείται περισσότερο από γραμμική έξοδο."
   ]
  },
  {
   "cell_type": "code",
   "execution_count": 31,
   "metadata": {},
   "outputs": [],
   "source": [
    "class Net(nn.Module):    \n",
    "    def __init__(self, H1_size, H2_size=None):\n",
    "        super().__init__()\n",
    "        self.fc1 = nn.Linear(28 * 28, H1_size)\n",
    "        self.fc2 = nn.Linear(H1_size, 10)\n",
    "        if H2_size != None:\n",
    "            self.fc2 = nn.Linear(H1_size, H2_size) # Change H1 if H2 exists\n",
    "            self.fc3 = nn.Linear(H2_size, 10)\n",
    "\n",
    "\n",
    "    def forward(self, x):\n",
    "        '''Forward pass'''\n",
    "        x = x.view(-1, 28*28)\n",
    "        x = self.fc1(x)\n",
    "        x = self.fc2(F.relu(x))\n",
    "        if hasattr(self, 'fc3'):\n",
    "            x = self.fc3(F.relu(x))\n",
    "          \n",
    "        return x"
   ]
  },
  {
   "cell_type": "markdown",
   "metadata": {},
   "source": [
    "**στ)** Βελτιστοποίηση του μεγεθους του **H1**.  \n",
    "\n",
    "Για εκπαίδευση με **2 epochs ανά fold** τα αποτελέσματα είναι τα παρακάτω:\n",
    "\n",
    "| Αριθμός νευρώνων στο κρυφό επίπεδο | CE loss  | ΜSE |\n",
    "| :- | :- | :- |\n",
    "| Η1 -> Ο = 10| 79.85 | 35.97 |   \n",
    "| Η1 -> (Ι+Ο)/2 = 397 | 86.58 | 73.17 |\n",
    "| Η1 -> Ι+Ο = 794 | 87.37 | 77.01 |    \n",
    "\n",
    "**(i)** Όσο αφορά τον αριθμό τον κρυφών κόμβων είναι εμφανές από τα αποτελέσματα ότι περισσότερη νευρώνες στο hidden layer δίνουν καλύτερα αποτελέσματα.  \n",
    "**(ii)** Η επιλογή συνάρτησης κόστους είναι χαρακτηριστική του προβλήματος. Στην συγκεκριμένη περίπτωση για classification προβλήματα είναι καταλληλότερη η χρήση Cross Entropy loss όπως φαίνεται και από τα αποτελέσματα.  \n",
    "**(iii)** Από τις γραφικές παραστάσεις φαίνεται ότι ταχύτητα σύγκλισης μειώνετε ως προς τις εποχές εκπαίδευσης.\n",
    "\n",
    "<div style=\"text-align:center\">\n",
    "\n",
    "### CE loss diagram\n",
    "\n",
    "<img src=\"./plots/CE_plot_Η1.png\" alt=\"drawing\" width=\"500\"/>\n",
    "\n",
    "### MSE loss diagram\n",
    "<img src=\"./plots/MSE_plot_Η1.png\" alt=\"drawing\" width=\"500\"/>\n",
    "    \n",
    "<div style=\"text-align:center\">"
   ]
  },
  {
   "cell_type": "code",
   "execution_count": null,
   "metadata": {},
   "outputs": [],
   "source": [
    "'''CE/MSE LOSS'''\n",
    "# Plot average loss per mini-batches\n",
    "fig, ax = plt.subplots()\n",
    "fig.suptitle(f'Average loss for different hidden layer sizes', fontsize=16)\n",
    "ax.set_xlabel('mini-batches(x100)')\n",
    "ax.set_ylabel('loss')\n",
    "\n",
    "for i, hiden_layer in enumerate([10, 397, 794]):  \n",
    "    \n",
    "    print('================================')\n",
    "    print(f\"Hidden layer size is {hiden_layer}\")\n",
    "    \n",
    "    # Initialize neuralNet\n",
    "    model=Net(H1_size=hiden_layer)\n",
    "\n",
    "    # Initialize optimizer\n",
    "    optimizer = torch.optim.SGD(model.parameters(), lr=0.001) \n",
    "\n",
    "    # Initialize Criterion\n",
    "    criterion = nn.CrossEntropyLoss()\n",
    "    #criterion = nn.MSELoss()\n",
    "\n",
    "    # Set train function arguments with partial\n",
    "    tr = partial(Train, epochs=2, loss_func=criterion, opt=optimizer, target_one_hot=False)\n",
    "\n",
    "    # Begin KFold training with given model and train function\n",
    "    results = kFoldTrain(net=model, trainer=tr, dt_set=dataset, k_folds=5, batch_s=50)\n",
    "\n",
    "    # Caclulate and print average accuracy\n",
    "    average_accuracy = np.array(list(results[\"accuracy\"].values())).mean()\n",
    "    \n",
    "    print(f'{len(results[\"accuracy\"])}-Fold average accuracy is: {round(average_accuracy, 2)}')\n",
    "    \n",
    "    ax.plot(np.array(results[\"loss\"]).mean(axis=0), label=f\"{hiden_layer}\")\n",
    "\n",
    "plt.legend(loc=\"upper right\", title=\"hidden layer size\", frameon=False)\n",
    "plt.show()\n",
    "fig.savefig(f'./plots/CE_plot_Η1.png', dpi=300, bbox_inches='tight')"
   ]
  },
  {
   "cell_type": "markdown",
   "metadata": {},
   "source": [
    "**ζ)** Βελτιστοποίηση του μεγεθους του **H2**.\n",
    "\n",
    "Για εκπαίδευση με **2 epochs ανά fold** τα αποτελέσματα είναι τα παρακάτω:\n",
    "\n",
    "| Αριθμός νευρώνων στο κρυφό επίπεδο | CE loss  | ΜSE |\n",
    "| :- | :- | :- |\n",
    "| Η2 -> H1/2 = 397| 83.67 | 67.47 |   \n",
    "| Η2 -> H1 = 794 | 85.18 | 71.95 |\n",
    "| Η2 -> H1*2 = 1588 | 86.22 | 75.67 |  \n",
    "\n",
    "Μικρότερος αριθμός κόμβων σε ένα εσωτερικό επίπεδο σημαίνει συμπίεση της διερχομένης πληροφορίας. Κάτι που είναι επιθυμητό καθώς πρέπει να αντιστοιχήσουμε μια σειρά από pixels σε ένα συγκεκριμένο αριθμό. Επίσης μεγαλύτερος αριθμός παραμέτρων έχει ως αποτέλεσμα το δυτικό να γενικεύει δυσκολότερα. Παρ’ όλα αυτά από τα αποτελέσματα φαίνεται ότι καθώς αυξάνετε ο αριθμός των παραμέτρων του δευτέρου κρυφού επιπέδου έχουμε μεγαλύτερη ακρίβεια αν και η προσθήκη ενός εξτρά επιπέδου για εκπαίδευση με 2 epochs μειώνει ελαφρός το μέσο ορό του accuracy των folds.\n",
    "\n",
    "<div style=\"text-align:center\">\n",
    "\n",
    "### CE loss diagram\n",
    "\n",
    "<img src=\"./plots/CE_plot_Η2.png\" alt=\"drawing\" width=\"500\"/>\n",
    "\n",
    "### MSE loss diagram\n",
    "<img src=\"./plots/MSE_plot_Η2.png\" alt=\"drawing\" width=\"500\"/>\n",
    "    \n",
    "<div style=\"text-align:center\">"
   ]
  },
  {
   "cell_type": "code",
   "execution_count": 13,
   "metadata": {
    "collapsed": true,
    "jupyter": {
     "outputs_hidden": true
    }
   },
   "outputs": [
    {
     "name": "stdout",
     "output_type": "stream",
     "text": [
      "================================\n",
      "Hidden layer size is 397\n",
      "FOLD 0\n",
      "--------------------------------\n",
      "Starting epoch 1\n",
      "Starting epoch 2\n",
      "Accuracy for fold 0: 68 %\n",
      "--------------------------------\n",
      "FOLD 1\n",
      "--------------------------------\n",
      "Starting epoch 1\n",
      "Starting epoch 2\n",
      "Accuracy for fold 1: 69 %\n",
      "--------------------------------\n",
      "FOLD 2\n",
      "--------------------------------\n",
      "Starting epoch 1\n",
      "Starting epoch 2\n",
      "Accuracy for fold 2: 67 %\n",
      "--------------------------------\n",
      "FOLD 3\n",
      "--------------------------------\n",
      "Starting epoch 1\n",
      "Starting epoch 2\n",
      "Accuracy for fold 3: 65 %\n",
      "--------------------------------\n",
      "FOLD 4\n",
      "--------------------------------\n",
      "Starting epoch 1\n",
      "Starting epoch 2\n",
      "Accuracy for fold 4: 66 %\n",
      "--------------------------------\n",
      "5-Fold average accuracy is: 67.61\n",
      "================================\n",
      "Hidden layer size is 1588\n",
      "FOLD 0\n",
      "--------------------------------\n",
      "Starting epoch 1\n",
      "Starting epoch 2\n",
      "Accuracy for fold 0: 72 %\n",
      "--------------------------------\n",
      "FOLD 1\n",
      "--------------------------------\n",
      "Starting epoch 1\n",
      "Starting epoch 2\n",
      "Accuracy for fold 1: 73 %\n",
      "--------------------------------\n",
      "FOLD 2\n",
      "--------------------------------\n",
      "Starting epoch 1\n",
      "Starting epoch 2\n",
      "Accuracy for fold 2: 70 %\n",
      "--------------------------------\n",
      "FOLD 3\n",
      "--------------------------------\n",
      "Starting epoch 1\n",
      "Starting epoch 2\n",
      "Accuracy for fold 3: 72 %\n",
      "--------------------------------\n",
      "FOLD 4\n",
      "--------------------------------\n",
      "Starting epoch 1\n",
      "Starting epoch 2\n",
      "Accuracy for fold 4: 72 %\n",
      "--------------------------------\n",
      "5-Fold average accuracy is: 72.15\n",
      "================================\n",
      "Hidden layer size is 3176\n",
      "FOLD 0\n",
      "--------------------------------\n",
      "Starting epoch 1\n",
      "Starting epoch 2\n",
      "Accuracy for fold 0: 76 %\n",
      "--------------------------------\n",
      "FOLD 1\n",
      "--------------------------------\n",
      "Starting epoch 1\n",
      "Starting epoch 2\n",
      "Accuracy for fold 1: 76 %\n",
      "--------------------------------\n",
      "FOLD 2\n",
      "--------------------------------\n",
      "Starting epoch 1\n",
      "Starting epoch 2\n",
      "Accuracy for fold 2: 75 %\n",
      "--------------------------------\n",
      "FOLD 3\n",
      "--------------------------------\n",
      "Starting epoch 1\n",
      "Starting epoch 2\n",
      "Accuracy for fold 3: 75 %\n",
      "--------------------------------\n",
      "FOLD 4\n",
      "--------------------------------\n",
      "Starting epoch 1\n",
      "Starting epoch 2\n",
      "Accuracy for fold 4: 75 %\n",
      "--------------------------------\n",
      "5-Fold average accuracy is: 75.66\n"
     ]
    },
    {
     "data": {
      "image/png": "[encoded data removed]",
      "text/plain": [
       "<Figure size 432x288 with 1 Axes>"
      ]
     },
     "metadata": {
      "needs_background": "light"
     },
     "output_type": "display_data"
    }
   ],
   "source": [
    "'''CE/MSE LOSS with H2'''\n",
    "# Plot average loss per mini-batches\n",
    "fig, ax = plt.subplots()\n",
    "fig.suptitle(f'Average loss for different hidden layer sizes', fontsize=16)\n",
    "ax.set_xlabel('mini-batches(x100)')\n",
    "ax.set_ylabel('loss')\n",
    "\n",
    "for hiden_layer in [397, 1588, 3176]:  \n",
    "    \n",
    "    print('================================')\n",
    "    print(f\"Hidden layer size is {hiden_layer}\")\n",
    "    \n",
    "    # Initialize neuralNet\n",
    "    model=Net(H1_size=794, H2_size=hiden_layer)\n",
    "\n",
    "    # Initialize optimizer\n",
    "    optimizer = torch.optim.SGD(model.parameters(), lr=0.001) \n",
    "\n",
    "    # Initialize Criterion\n",
    "    #criterion = nn.CrossEntropyLoss()\n",
    "    criterion = nn.MSELoss()\n",
    "\n",
    "    # Set train function arguments with partial\n",
    "    tr = partial(Train, epochs=2, loss_func=criterion, opt=optimizer, target_one_hot=True)\n",
    "\n",
    "    # Begin KFold training with given model and train function\n",
    "    results = kFoldTrain(net=model, trainer=tr, dt_set=dataset, k_folds=5, batch_s=50)\n",
    "\n",
    "    # Caclulate and print average accuracy\n",
    "    average_accuracy = np.array(list(results[\"accuracy\"].values())).mean()\n",
    "    \n",
    "    print(f'{len(results[\"accuracy\"])}-Fold average accuracy is: {round(average_accuracy, 2)}')\n",
    "    \n",
    "    ax.plot(np.array(results[\"loss\"]).mean(axis=0), label=f\"{hiden_layer}\")\n",
    "\n",
    "plt.legend(loc=\"upper right\", title=\"hidden layer size\", frameon=False)\n",
    "plt.show()\n",
    "fig.savefig(f'./plots/MSE_plot_Η2.png', dpi=300, bbox_inches='tight')"
   ]
  },
  {
   "cell_type": "markdown",
   "metadata": {},
   "source": [
    "**η)** Επειδή χρησιμοποιούμε **CV** για βελτιστοποίηση των υπερ παραμέτρων στα προηγούμενα ερωτήματα εκπαίδευσα το κάθε fold με τον ίδιο αριθμό epoch. Είναι πιθανό να χρησιμοποιηθεί **early stoping** για κριτήριο τερματισμού αλλά αυτό προϋποθέτει το διαχωρισμό του κάθε fold σε τρία σετ (training, validation για early stoping και validation για CV). Παρακάτω φαίνεται η **Train_with_early_stop** που υλοποιεί το συγκεκριμένο κριτήριο τερματισμού χρησιμοποιώντας έναν scheduler που μετά απο κάθε epoch εξετάζει την τιμή της **eval**."
   ]
  },
  {
   "cell_type": "code",
   "execution_count": 24,
   "metadata": {},
   "outputs": [],
   "source": [
    "def eval(model, val_dl, loss_func, one_hot=False):\n",
    "    \n",
    "    total_loss = 0\n",
    "    \n",
    "    model.eval()\n",
    "    \n",
    "    with torch.no_grad():\n",
    "        for i, (inputs, targets) in enumerate(val_dl):\n",
    "            \n",
    "            # Perform forward pass\n",
    "            outputs = model(inputs.float())\n",
    "\n",
    "            # Turn target batch to one-hot for MSELoss\n",
    "            if one_hot:\n",
    "                targets = F.one_hot(targets, num_classes=10).float()\n",
    "            \n",
    "            # Compute loss\n",
    "            total_loss =+ loss_func(outputs.float(), targets).item()\n",
    "        \n",
    "    return torch.tensor(total_loss / len(val_dl))"
   ]
  },
  {
   "cell_type": "code",
   "execution_count": 47,
   "metadata": {},
   "outputs": [],
   "source": [
    "def Train_with_early_stop(loss_func, opt, model, train_dl, val_dl, target_one_hot=False):   \n",
    "    \n",
    "    model.train()\n",
    "    \n",
    "    # Accumulate loss values for ploting \n",
    "    loss_values = []\n",
    "    \n",
    "    # Initialize scheduler\n",
    "    es = EarlyStopping(patience=1)\n",
    "    \n",
    "    epoch = 0\n",
    "    \n",
    "    # Run the training loop for defined number of epochs\n",
    "    while True:\n",
    "\n",
    "        # Print epoch\n",
    "        print(f'Starting epoch {epoch+1}')\n",
    "\n",
    "        # Set current loss value\n",
    "        current_loss = 0.0\n",
    "\n",
    "        # Iterate over the DataLoader for training data\n",
    "        for i, (inputs, targets) in enumerate(train_dl, 0):\n",
    "\n",
    "            # Zero the gradients\n",
    "            opt.zero_grad()\n",
    "\n",
    "            # Perform forward pass\n",
    "            outputs = model(inputs.float())\n",
    "\n",
    "            # Turn target batch to one-hot for MSELoss\n",
    "            if target_one_hot:\n",
    "                targets = F.one_hot(targets, num_classes=10).float()\n",
    "            \n",
    "            # Compute loss\n",
    "            loss = loss_func(outputs.float(), targets)\n",
    "\n",
    "            # Perform backward pass\n",
    "            loss.backward()\n",
    "\n",
    "            # Perform optimization\n",
    "            opt.step()\n",
    "\n",
    "            # Print statistics\n",
    "            current_loss += loss.item()\n",
    "            \n",
    "            if i % 100 == 99:\n",
    "                #print(f'Loss after {i + 1} mini-batches: {current_loss / 500}')\n",
    "                loss_values.append(current_loss / 500)\n",
    "                current_loss = 0.0\n",
    "                \n",
    "        epoch += 1\n",
    "        # evalution on dev set (i.e., holdout from training)\n",
    "        metric = eval(model, val_dl, loss_func, target_one_hot)  \n",
    "        if es.step(metric): break  # early stop criterion is met\n",
    "            \n",
    "\n",
    "    return loss_values"
   ]
  },
  {
   "cell_type": "code",
   "execution_count": 48,
   "metadata": {},
   "outputs": [],
   "source": [
    "# Caluculate mean of lists with different sizes -> Used when early stoping\n",
    "# From stackOverflow -> https://stackoverflow.com/a/59281468\n",
    "def tolerant_mean(arrs):\n",
    "    lens = [len(i) for i in arrs]\n",
    "    arr = np.ma.empty((np.max(lens),len(arrs)))\n",
    "    arr.mask = True\n",
    "    for idx, l in enumerate(arrs):\n",
    "        arr[:len(l),idx] = l\n",
    "    return arr.mean(axis = -1), arr.std(axis=-1)"
   ]
  },
  {
   "cell_type": "markdown",
   "metadata": {},
   "source": [
    "### Α3. Μεταβολές στον ρυθμό εκπαίδευσης και σταθεράς ορμής"
   ]
  },
  {
   "cell_type": "markdown",
   "metadata": {
    "jupyter": {
     "source_hidden": true
    }
   },
   "source": [
    "Βελτιστοποίηση των παραμέτρων **m** και **lr**.\n",
    "\n",
    "Το δυτικό που δίνει τα καλύτερα αποτελέσματα και που χρησιμοποιείτε για την αξιολόγηση των παραμέτρων έχει ένα κρυφό επίπεδο με 794 νευρώνες. \n",
    "Για εκπαίδευση με **5-fold** και **early-stoping** τα αποτελέσματα είναι τα παρακάτω:\n",
    "\n",
    "| ρυθμός εκπαίδευσης(lr) | σταθερά ορμής(m) | CEloss  | ΜSE |\n",
    "| :- | :- | :- | :- |\n",
    "|0.001 | 0.2   |89.34 | 84.34 |   \n",
    "|0.001 | 0.6   |91.41 | 86.38 |\n",
    "|0.05  | 0.6   |97.47 | 96.46 |\n",
    "|0.1   | 0.6   |97.42 | 96.91 |\n",
    "\n",
    "Από τα αποτελέσματα φαίνεται και πάλη ότι η εκπαίδευση με **CE** είναι καλύτερη για προβλήματα clasification. Αναφορικά με της παραμέτρους **lr** και **m**\n",
    "φαίνεται ότι περνούμε τα καλύτερα αποτελέσματα με m = 0.6 και learning rate μετάξι 0.05 και 0.1 αυξάνοντας έτσι την ταχύτητα με την οποία το δυτικό κινείτε προς το στόχο. Αναλυτικά:\n",
    "- Στο πρώτο πείραμα πετυχαίνουμε καλύτερα αποτελέσματα με την προσθήκη momentum (το lr ήταν ίδιο) από το Α2.\n",
    "- Στο δεύτερο έχουμε ελαφρώς καλύτερα αποτελέσματα από πριν με την αύξηση του momentum.\n",
    "- Στο τρίτο και τέταρτο τα αποτελέσματα είναι παρόμοια με την διαφορά ότι η εκπαίδευση με lr = 0.1 χρειάστηκε λιγότερες επαναλήψεις για την σύγκλιση.\n",
    "\n",
    "\n",
    "<div style=\"text-align:center\">\n",
    "\n",
    "### CE loss diagram\n",
    "\n",
    "<img src=\"./plots/CE_lr_m.png\" alt=\"drawing\" width=\"500\"/>\n",
    "\n",
    "### MSE loss diagram\n",
    "<img src=\"./plots/MSE_lr_m.png\" alt=\"drawing\" width=\"500\"/>\n",
    "    \n",
    "<div style=\"text-align:center\">"
   ]
  },
  {
   "cell_type": "code",
   "execution_count": null,
   "metadata": {
    "jupyter": {
     "source_hidden": true
    }
   },
   "outputs": [],
   "source": [
    "'''CE/MSE LOSS learning rate-momentum'''\n",
    "\n",
    "from early_stop import EarlyStopping\n",
    "\n",
    "# Plot average loss per mini-batches\n",
    "fig, ax = plt.subplots()\n",
    "fig.suptitle(f'Average loss for different l-m pairs', fontsize=16)\n",
    "ax.set_xlabel('mini-batches(x100)')\n",
    "ax.set_ylabel('loss')\n",
    "\n",
    "value_pairs = [\n",
    "    (0.001, 0.2),\n",
    "    (0.001, 0.6),\n",
    "    (0.05, 0.6),\n",
    "    (0.1, 0.6)\n",
    "]\n",
    "\n",
    "for i, (l, m) in enumerate(value_pairs):  \n",
    "    \n",
    "    print('================================')\n",
    "    print(f\"pair -> lr={l}, m={m}\")\n",
    "    \n",
    "    # Initialize neuralNet\n",
    "    model=Net(H1_size=794)\n",
    "\n",
    "    # Initialize optimizer\n",
    "    optimizer = torch.optim.SGD(model.parameters(), lr=l, momentum=m) \n",
    "\n",
    "    # Initialize Criterion\n",
    "    #criterion = nn.CrossEntropyLoss()\n",
    "    criterion = nn.MSELoss()\n",
    "\n",
    "    # Set train function arguments with partial\n",
    "    tr = partial(Train_with_early_stop, \n",
    "                 loss_func=criterion, \n",
    "                 opt=optimizer, \n",
    "                 target_one_hot=True)\n",
    "\n",
    "    # Begin KFold training with given model and train function\n",
    "    results = kFoldTrain(net=model, \n",
    "                         trainer=tr, \n",
    "                         dt_set=dataset, \n",
    "                         k_folds=5, \n",
    "                         batch_s=50,\n",
    "                         early_stop=True)\n",
    "\n",
    "    # Caclulate and print average accuracy\n",
    "    average_accuracy = np.array(list(results[\"accuracy\"].values())).mean()\n",
    "    \n",
    "    print(f'{len(results[\"accuracy\"])}-Fold average accuracy is: {round(average_accuracy, 2)}')\n",
    "    \n",
    "    y, error = tolerant_mean(results[\"loss\"])\n",
    "    ax.plot(np.arange(len(y))+1, y, label=f\"lr={l}, m={m}\")\n",
    "    ax.fill_between(np.arange(len(y))+1, y-error, y+error, alpha=0.2)\n",
    "\n",
    "plt.legend(loc=\"upper right\", title=\"lr-m pairs\", frameon=False)\n",
    "plt.show()\n",
    "fig.savefig(f'./plots/MSE_lr_m.png', dpi=300, bbox_inches='tight')"
   ]
  },
  {
   "cell_type": "markdown",
   "metadata": {},
   "source": [
    "### Α4. Ομαλοποίηση"
   ]
  },
  {
   "cell_type": "markdown",
   "metadata": {
    "jupyter": {
     "source_hidden": true
    }
   },
   "source": [
    "Βελτιστοποίηση της παραμέτρου **weigh_decay(wd)**.\n",
    "\n",
    "Το δυτικό που δίνει τα καλύτερα αποτελέσματα και που χρησιμοποιείτε για την αξιολόγηση των παραμέτρων έχει ένα κρυφό επίπεδο με 794 νευρώνες.\n",
    "Ακόμα χρησιμοποιήθηκε learning rate 0.05 και momentum = 0.6.\n",
    "Για εκπαίδευση με **5-fold** και **early-stoping** τα αποτελέσματα είναι τα παρακάτω:\n",
    "\n",
    "| ομαλοποίηση βαρών(wd) | CEloss  | ΜSE |\n",
    "| :- | :- | :- |\n",
    "|0.1 | 89.0  | 72.62 |   \n",
    "|0.5 | 72.2  | 11.85 |\n",
    "|0.9 | 54.97 | 10.54 |\n",
    "\n",
    "Από τα αποτελέσματα φαίνεται ότι μεγάλες τιμές **wd** εισάγουν μεγάλο \"penalty\" στα weights κάνοντας τα έτσι να τείνουν προς το 0 και ως εκ τούτου αποτρέπουν το δυτικό να μάθει από τα δεδομένα. Μικρές τιμές **wd** είναι ωφέλιμες σε περίπτωση που το δίκτυο δεν γενικεύει επαρκώς από τα δεδομένα μάθησης.\n",
    "Στην συγκεκριμένη περίπτωση επειδή το δίκτυο είναι μικρό (έχει μόνο ένα κρυφό επίπεδο) και επόμενος κάνει δύσκολα overfit, η εφαρμογή weight decay (ακόμα και με wd=0.1) μειώνει την αποτελεσματικότητα του δικτιού (απο ac=97 σε ac=89 για CE) σε καινούρια δεδομένα.\n",
    "\n",
    "<div style=\"text-align:center\">  \n",
    "\n",
    "### CE loss diagram\n",
    "\n",
    "<img src=\"./plots/CE_weight_decay.png\" alt=\"drawing\" width=\"500\"/>\n",
    "\n",
    "### MSE loss diagram\n",
    "<img src=\"./plots/MSE_weight_decay.png\" alt=\"drawing\" width=\"500\"/>\n",
    "    \n",
    "<div style=\"text-align:center\">"
   ]
  },
  {
   "cell_type": "code",
   "execution_count": null,
   "metadata": {
    "jupyter": {
     "source_hidden": true
    }
   },
   "outputs": [],
   "source": [
    "'''CE/MSE LOSS weight_decay'''\n",
    "\n",
    "from early_stop import EarlyStopping\n",
    "\n",
    "# Plot average loss per mini-batches\n",
    "fig, ax = plt.subplots()\n",
    "fig.suptitle(f'Average loss for different weight_decay values', fontsize=16)\n",
    "ax.set_xlabel('mini-batches(x100)')\n",
    "ax.set_ylabel('loss')\n",
    "\n",
    "for i, wd in enumerate([0.1, 0.5, 0.9]):  \n",
    "    \n",
    "    print('================================')\n",
    "    print(f\"weight_decay={wd}\")\n",
    "    \n",
    "    # Initialize neuralNet\n",
    "    model=Net(H1_size=794)\n",
    "\n",
    "    # Initialize optimizer\n",
    "    optimizer = torch.optim.SGD(model.parameters(), \n",
    "                                lr=0.05, \n",
    "                                momentum=0.6,\n",
    "                                weight_decay=wd\n",
    "                               ) \n",
    "\n",
    "    # Initialize Criterion\n",
    "    #criterion = nn.CrossEntropyLoss()\n",
    "    criterion = nn.MSELoss()\n",
    "\n",
    "    # Set train function arguments with partial\n",
    "    tr = partial(Train_with_early_stop, \n",
    "                 loss_func=criterion, \n",
    "                 opt=optimizer, \n",
    "                 target_one_hot=True\n",
    "                )\n",
    "\n",
    "    # Begin KFold training with given model and train function\n",
    "    results = kFoldTrain(net=model, \n",
    "                         trainer=tr, \n",
    "                         dt_set=dataset, \n",
    "                         k_folds=5, \n",
    "                         batch_s=50,\n",
    "                         early_stop=True\n",
    "                        )\n",
    "\n",
    "    # Caclulate and print average accuracy\n",
    "    average_accuracy = np.array(list(results[\"accuracy\"].values())).mean()\n",
    "    \n",
    "    print(f'{len(results[\"accuracy\"])}-Fold average accuracy is: {round(average_accuracy, 2)}')\n",
    "    \n",
    "    y, error = tolerant_mean(results[\"loss\"])\n",
    "    ax.plot(np.arange(len(y))+1, y, label=f\"wd={wd}\")\n",
    "    ax.fill_between(np.arange(len(y))+1, y-error, y+error, alpha=0.2)\n",
    "\n",
    "plt.legend(loc=\"upper right\", title=\"weight_decay value\", frameon=False)\n",
    "plt.show()\n",
    "fig.savefig(f'./plots/MSE_weight_decay.png', dpi=300, bbox_inches='tight')"
   ]
  },
  {
   "cell_type": "markdown",
   "metadata": {},
   "source": [
    "### A5. Convolutional Neural Network"
   ]
  },
  {
   "cell_type": "markdown",
   "metadata": {},
   "source": [
    "Τα δυο **CNN** που θα αξιολογηθούν σε αυτό το ερώτημα είναι τα παρακάτω:"
   ]
  },
  {
   "cell_type": "markdown",
   "metadata": {},
   "source": [
    "1. Το **CNN1** αποτελείτε από τρία επίπεδα συνέλιξης με μέγεθος kernel ίσο με 5 από τα οποία καθένα ακολουθείτε από ένα επίπεδο **max pool** με μέγεθος window 2x2 και ένα επίπεδο **dropout** που με πιθανότητα 50% θέτει σε 0 μέρη του τενσορα εισόδου του. Έπειτα η έξοδος γίνεται **flatten** με σκοπό να περάσει από δυο τελευταία **linear** επίπεδα. Για activation function παντού χρησιμοποιείτε η **Relu**. "
   ]
  },
  {
   "cell_type": "code",
   "execution_count": 62,
   "metadata": {},
   "outputs": [],
   "source": [
    "class CNN1(nn.Module):\n",
    "    def __init__(self):\n",
    "        super(CNN1, self).__init__()\n",
    "        self.conv1 = nn.Conv2d(1, 32, kernel_size=5)\n",
    "        self.conv2 = nn.Conv2d(32, 32, kernel_size=5)\n",
    "        self.conv3 = nn.Conv2d(32,64, kernel_size=5)\n",
    "        self.fc1 = nn.Linear(3*3*64, 256)\n",
    "        self.fc2 = nn.Linear(256, 10)\n",
    "\n",
    "    def forward(self, x):\n",
    "        x = x.view(-1, 1, 28, 28)\n",
    "        x = F.relu(self.conv1(x))\n",
    "        x = F.dropout(x, p=0.5, training=self.training)\n",
    "        x = F.relu(F.max_pool2d(self.conv2(x), 2))\n",
    "        x = F.dropout(x, p=0.5, training=self.training)\n",
    "        x = F.relu(F.max_pool2d(self.conv3(x),2))\n",
    "        x = F.dropout(x, p=0.5, training=self.training)\n",
    "        x = x.view(-1,3*3*64 )\n",
    "        x = F.relu(self.fc1(x))\n",
    "        x = F.dropout(x, training=self.training)\n",
    "        x = self.fc2(x)\n",
    "        return x"
   ]
  },
  {
   "cell_type": "markdown",
   "metadata": {},
   "source": [
    "2. Το **CNN2** είναι ακριβός ίδιο με το πρώτο με την διαφορά ότι δεν εφαρμόζεται drop out και υπαρχει μονο ενα Linear επιπεδο."
   ]
  },
  {
   "cell_type": "code",
   "execution_count": 63,
   "metadata": {},
   "outputs": [],
   "source": [
    "class CNN2(nn.Module):\n",
    "    def __init__(self):\n",
    "        super(CNN2, self).__init__()\n",
    "        self.conv1 = nn.Conv2d(1, 32, kernel_size=5)\n",
    "        self.conv2 = nn.Conv2d(32, 32, kernel_size=5)\n",
    "        self.conv3 = nn.Conv2d(32,64, kernel_size=5)\n",
    "        self.fc1 = nn.Linear(3*3*64, 10)\n",
    "\n",
    "    def forward(self, x):\n",
    "        x = x.view(-1, 1, 28, 28)\n",
    "        x = F.relu(self.conv1(x))\n",
    "        x = F.relu(F.max_pool2d(self.conv2(x), 2))\n",
    "        x = F.relu(F.max_pool2d(self.conv3(x),2))\n",
    "        x = x.view(-1,3*3*64 )\n",
    "        x = self.fc1(x)\n",
    "        return x"
   ]
  },
  {
   "cell_type": "code",
   "execution_count": 61,
   "metadata": {},
   "outputs": [
    {
     "name": "stdout",
     "output_type": "stream",
     "text": [
      "================================\n",
      "FOLD 0\n",
      "--------------------------------\n",
      "Starting epoch 1\n",
      "Starting epoch 2\n",
      "Starting epoch 3\n",
      "Accuracy for fold 0: 98 %\n",
      "--------------------------------\n",
      "FOLD 1\n",
      "--------------------------------\n",
      "Starting epoch 1\n",
      "Starting epoch 2\n",
      "Starting epoch 3\n",
      "Accuracy for fold 1: 98 %\n",
      "--------------------------------\n",
      "FOLD 2\n",
      "--------------------------------\n",
      "Starting epoch 1\n",
      "Starting epoch 2\n",
      "Accuracy for fold 2: 98 %\n",
      "--------------------------------\n",
      "FOLD 3\n",
      "--------------------------------\n",
      "Starting epoch 1\n",
      "Starting epoch 2\n",
      "Accuracy for fold 3: 99 %\n",
      "--------------------------------\n",
      "FOLD 4\n",
      "--------------------------------\n",
      "Starting epoch 1\n",
      "Starting epoch 2\n",
      "Starting epoch 3\n",
      "Starting epoch 4\n",
      "Accuracy for fold 4: 99 %\n",
      "--------------------------------\n",
      "5-Fold average accuracy is: 99.02\n"
     ]
    },
    {
     "data": {
      "image/png": "[encoded data removed]",
      "text/plain": [
       "<Figure size 432x288 with 1 Axes>"
      ]
     },
     "metadata": {
      "needs_background": "light"
     },
     "output_type": "display_data"
    }
   ],
   "source": [
    "'''CE/MSE LOSS weight_decay'''\n",
    "\n",
    "from early_stop import EarlyStopping\n",
    "\n",
    "# Plot average loss per mini-batches\n",
    "fig, ax = plt.subplots()\n",
    "fig.suptitle(f'Average loss', fontsize=16)\n",
    "ax.set_xlabel('mini-batches(x100)')\n",
    "ax.set_ylabel('loss')\n",
    "    \n",
    "print('================================')\n",
    "\n",
    "# Initialize neuralNet\n",
    "model=CNN2()\n",
    "\n",
    "# Initialize optimizer\n",
    "optimizer = torch.optim.SGD(model.parameters(), lr=0.05, momentum=0.6) \n",
    "\n",
    "# Initialize Criterion\n",
    "criterion = nn.CrossEntropyLoss()\n",
    "#criterion = nn.MSELoss()\n",
    "\n",
    "# Set train function arguments with partial\n",
    "tr = partial(Train_with_early_stop, \n",
    "             loss_func=criterion, \n",
    "             opt=optimizer, \n",
    "             target_one_hot=False\n",
    "            )\n",
    "\n",
    "# Begin KFold training with given model and train function\n",
    "results = kFoldTrain(net=model, \n",
    "                     trainer=tr, \n",
    "                     dt_set=dataset, \n",
    "                     k_folds=5, \n",
    "                     batch_s=50,\n",
    "                     early_stop=True\n",
    "                    )\n",
    "\n",
    "# Caclulate and print average accuracy\n",
    "average_accuracy = np.array(list(results[\"accuracy\"].values())).mean()\n",
    "\n",
    "print(f'{len(results[\"accuracy\"])}-Fold average accuracy is: {round(average_accuracy, 2)}')\n",
    "\n",
    "y, error = tolerant_mean(results[\"loss\"])\n",
    "ax.plot(np.arange(len(y))+1, y)\n",
    "ax.fill_between(np.arange(len(y))+1, y-error, y+error, alpha=0.2)\n",
    "plt.show()\n",
    "fig.savefig(f'./plots/CE_CNN2.png', dpi=300, bbox_inches='tight')"
   ]
  },
  {
   "cell_type": "markdown",
   "metadata": {},
   "source": [
    "Η εκπαίδευση έγινε με 5-fold και early-stoping. H παράμετροι του SGD ειναι m=0.6 και lr=0.05. Τα αποτελέσματα είναι τα παρακάτω:\n",
    "\n",
    "| CNN model | CE loss  | ΜSE |\n",
    "| :- | :- | :- |\n",
    "| CNN1 | 99.24 | 97.7 |   \n",
    "| CNN2 | 99.02 | 98.8 |\n",
    "\n",
    "<center>\n",
    "\n",
    "### CNN1 CE loss diagram\n",
    "\n",
    "<img src=\"./plots/CE_CNN.png\" alt=\"drawing\" width=\"500\"/>\n",
    "\n",
    "### CNN1 MSE loss diagram\n",
    "<img src=\"./plots/MSE_CNN.png\" alt=\"drawing\" width=\"500\"/>\n",
    "    \n",
    "### CNN2 CE loss diagram\n",
    "\n",
    "<img src=\"./plots/CE_CNN2.png\" alt=\"drawing\" width=\"500\"/>\n",
    "\n",
    "### CNN2 MSE loss diagram\n",
    "<img src=\"./plots/MSE_CNN2.png\" alt=\"drawing\" width=\"500\"/>\n",
    "    \n",
    "</center>\n",
    "\n",
    "\n",
    "Από τα παραπάνω γίνεται αντιληπτό ότι τα **CNN** μοντέλα είναι αποτελεσματικότερα από τα **FNN** σε δεδομένα όπως φωτογραφίες που υπάρχει συσχετίσει μεταξύ των τιμών τον pixel που βρίσκονται κοντά στο δυσδιάστατο επίπεδο. Τα δυο μοντέλα διαφέρουν κύριος στην ύπαρξη η οχι regularization μέσο drop out. Παρόλα αυτά και τα δυο πετυχαίνουν accuracy πάνω από 98% για CEloss και 97% για MSE."
   ]
  },
  {
   "cell_type": "code",
   "execution_count": null,
   "metadata": {},
   "outputs": [],
   "source": []
  }
 ],
 "metadata": {
  "kernelspec": {
   "display_name": "Python 3",
   "language": "python",
   "name": "python3"
  },
  "language_info": {
   "codemirror_mode": {
    "name": "ipython",
    "version": 3
   },
   "file_extension": ".py",
   "mimetype": "text/x-python",
   "name": "python",
   "nbconvert_exporter": "python",
   "pygments_lexer": "ipython3",
   "version": "3.8.5"
  }
 },
 "nbformat": 4,
 "nbformat_minor": 4
}
